{
  "nbformat": 4,
  "nbformat_minor": 0,
  "metadata": {
    "colab": {
      "name": "Proje1_GlobalAIHub.ipynb",
      "provenance": [],
      "collapsed_sections": []
    },
    "kernelspec": {
      "name": "python3",
      "display_name": "Python 3"
    },
    "language_info": {
      "name": "python"
    }
  },
  "cells": [
    {
      "cell_type": "markdown",
      "metadata": {
        "id": "view-in-github"
      },
      "source": [
        "<a href=\"https://colab.research.google.com/github/CanKemaloglu/GlobalAiHubProjects/blob/main/Proje1_GlobalAIHub.ipynb\" target=\"_parent\"><img src=\"https://colab.research.google.com/assets/colab-badge.svg\" alt=\"Open In Colab\"/></a>"
      ]
    },
    {
      "cell_type": "code",
      "execution_count": null,
      "metadata": {
        "id": "waf1liBSCEqk"
      },
      "outputs": [],
      "source": [
        "import pandas as pd\n",
        "import numpy as np\n"
      ]
    },
    {
      "cell_type": "markdown",
      "source": [
        "Proje 1\n",
        "\n",
        "Bu projede bir öğrenci not sistemi oluşturacaksınız. Sizden istenilenler:\n",
        "\n",
        "** Kendinize bir ders belirleyiniz. (Matematik,Fizik, Lineer Cebir vb.)\n",
        "\n",
        "** Not aralığınızı oluşturunuz (100-80 ⇒ A, 79-70 ⇒ B vb.)\n",
        "\n",
        "** Öğrenci Bilgilerini (Ad, Soyad, Okul No, sınav puanı) girebileceğiniz ve bu bilgilerin tutulabileceği bir sistem oluşturunuz.\n",
        "\n",
        "** Girilen bilgilerden yola çıkarak öğrencinin dersi geçip geçmediğini göstermesi gerekmektedir.\n",
        "\n",
        "** Öğrenci dersi geçti ise öğrencinin bilgilerinin tutulduğu alana “Geçti” yazısı, öğrenci dersi geçemedi ise “kaldı” yazısını göstermesi gerekmektedir.\n",
        "\n",
        "** Notları girilen öğrencilerden dersi geçenleri ve geçmeyenleri gösteren bir Dataframe oluşturunuz. \n",
        "\n",
        "** Oluşturulan Dataframe’i Excel tablosuna dönüştürünüz.\n",
        "\n",
        "\n",
        "\n",
        "\n"
      ],
      "metadata": {
        "id": "5RoUKC4fDBFG"
      }
    },
    {
      "cell_type": "code",
      "source": [
        "ogrenci_liste = {}\n",
        "ders_gecme_durumu = [\"KALDI\", \"GEÇTİ\"]\n",
        "sınıf_mevcut = int(input(\"Sınıf Öğrenci sayısını giriniz: \"))\n",
        "\n",
        "def ogrenci_ekle():\n",
        "  global sınıf_mevcut\n",
        "  ogrenci_ad = input(\"\\nLütfen öğrencinin adını giriniz : \")\n",
        "  ogrenci_soyad = input(\"Lütfen öğrencinin soyadını giriniz: \")\n",
        "  \n",
        "  toplam_ogrencı = 0\n",
        "  ogrenci_ad_soyad = f\"{ogrenci_ad} \".capitalize() + f\"{ogrenci_soyad}\".upper()\n",
        "\n",
        "  ogrenci_okul_no = input(\"Lütfen öğrencinin okul numarasını giriniz: \")\n",
        "  ogrenci_sinav_notu = int(input(\"Lütfen öğrencinin sınav notunu giriniz: \"))\n",
        "  while True: \n",
        "    toplam_ogrencı += 1\n",
        "    if ogrenci_sinav_notu > 100 or ogrenci_sinav_notu < 0:\n",
        "        ogrenci_sinav_notu = int(input(\"Öğrenci notu 0 ile 100 arasında olmalıdır! Lütfen öğrencinin sınav notunu giriniz: \"))\n",
        "      \n",
        "    if ogrenci_sinav_notu >= 55:\n",
        "        ogrenci_ders_gecme_durumu = ders_gecme_durumu[1]\n",
        "    else:\n",
        "        ogrenci_ders_gecme_durumu = ders_gecme_durumu[0]\n",
        "\n",
        "        ogrenci_liste[ogrenci_ad_soyad] = [ogrenci_okul_no, ogrenci_sinav_notu, ogrenci_ders_gecme_durumu]\n",
        "    if sınıf_mevcut == toplam_ogrencı:\n",
        "      break    "
      ],
      "metadata": {
        "id": "Lu1vXnOyCkHx",
        "colab": {
          "base_uri": "https://localhost:8080/"
        },
        "outputId": "5bcb1998-dc4d-4409-faed-388072b1c792"
      },
      "execution_count": null,
      "outputs": [
        {
          "name": "stdout",
          "output_type": "stream",
          "text": [
            "Sınıf Öğrenci sayısını giriniz: 3\n"
          ]
        }
      ]
    },
    {
      "cell_type": "code",
      "source": [
        "\n",
        "def dataframe_olustur(data): \n",
        "  global df_ogrenci\n",
        "  df_ogrenci = pd.DataFrame.from_dict(data, orient ='index')\n",
        "  df_ogrenci.columns = ['Okul No','Ders Notu','Durum']\n",
        "  df_ogrenci.info()\n",
        "  return df_ogrenci\n",
        "\n",
        "def excel_olustur(data):\n",
        "  data.to_excel(\"Ogrenci_Durum_Listesi.xlsx\")  "
      ],
      "metadata": {
        "id": "rGk8pnd_gQ_O"
      },
      "execution_count": null,
      "outputs": []
    },
    {
      "cell_type": "code",
      "source": [
        "for i in range(sınıf_mevcut):\n",
        "  ogrenci_ekle()\n"
      ],
      "metadata": {
        "colab": {
          "base_uri": "https://localhost:8080/"
        },
        "id": "peULlV9DMjJv",
        "outputId": "cd38492c-dae2-45c6-da25-59d72013d9c1"
      },
      "execution_count": null,
      "outputs": [
        {
          "name": "stdout",
          "output_type": "stream",
          "text": [
            "\n",
            "Lütfen öğrencinin adını giriniz : sinan\n",
            "Lütfen öğrencinin soyadını giriniz: guyer\n",
            "Lütfen öğrencinin okul numarasını giriniz: 12\n",
            "Lütfen öğrencinin sınav notunu giriniz: 12\n",
            "\n",
            "Lütfen öğrencinin adını giriniz : mansur\n",
            "Lütfen öğrencinin soyadını giriniz: ark\n",
            "Lütfen öğrencinin okul numarasını giriniz: 45\n",
            "Lütfen öğrencinin sınav notunu giriniz: 123\n",
            "Öğrenci notu 0 ile 100 arasında olmalıdır! Lütfen öğrencinin sınav notunu giriniz: 46\n",
            "\n",
            "Lütfen öğrencinin adını giriniz : melike \n",
            "Lütfen öğrencinin soyadını giriniz: bilgin\n",
            "Lütfen öğrencinin okul numarasını giriniz: 67\n",
            "Lütfen öğrencinin sınav notunu giriniz: 78\n"
          ]
        }
      ]
    },
    {
      "cell_type": "code",
      "source": [
        "ogrenci_liste.items()"
      ],
      "metadata": {
        "colab": {
          "base_uri": "https://localhost:8080/"
        },
        "id": "1aHBj9CyNRPX",
        "outputId": "7fc32960-606a-44eb-d992-d2c26f3645ce"
      },
      "execution_count": null,
      "outputs": [
        {
          "output_type": "execute_result",
          "data": {
            "text/plain": [
              "dict_items([('Sinan GUYER', ['12', 12, 'KALDI']), ('Mansur ARK', ['45', 46, 'KALDI'])])"
            ]
          },
          "metadata": {},
          "execution_count": 54
        }
      ]
    },
    {
      "cell_type": "code",
      "source": [
        "dataframe_olustur(ogrenci_liste)\n"
      ],
      "metadata": {
        "colab": {
          "base_uri": "https://localhost:8080/",
          "height": 254
        },
        "id": "LCl9gfEWNrE9",
        "outputId": "cf226983-55b4-4e8b-d3c9-be5639cf3c62"
      },
      "execution_count": null,
      "outputs": [
        {
          "output_type": "stream",
          "name": "stdout",
          "text": [
            "<class 'pandas.core.frame.DataFrame'>\n",
            "Index: 1 entries, Sinan GUYER to Sinan GUYER\n",
            "Data columns (total 3 columns):\n",
            " #   Column     Non-Null Count  Dtype \n",
            "---  ------     --------------  ----- \n",
            " 0   Okul No    1 non-null      object\n",
            " 1   Ders Notu  1 non-null      int64 \n",
            " 2   Durum      1 non-null      object\n",
            "dtypes: int64(1), object(2)\n",
            "memory usage: 32.0+ bytes\n"
          ]
        },
        {
          "output_type": "execute_result",
          "data": {
            "text/plain": [
              "            Okul No  Ders Notu  Durum\n",
              "Sinan GUYER      32         43  KALDI"
            ],
            "text/html": [
              "\n",
              "  <div id=\"df-496be4b9-889c-49be-b912-bc0b205c0525\">\n",
              "    <div class=\"colab-df-container\">\n",
              "      <div>\n",
              "<style scoped>\n",
              "    .dataframe tbody tr th:only-of-type {\n",
              "        vertical-align: middle;\n",
              "    }\n",
              "\n",
              "    .dataframe tbody tr th {\n",
              "        vertical-align: top;\n",
              "    }\n",
              "\n",
              "    .dataframe thead th {\n",
              "        text-align: right;\n",
              "    }\n",
              "</style>\n",
              "<table border=\"1\" class=\"dataframe\">\n",
              "  <thead>\n",
              "    <tr style=\"text-align: right;\">\n",
              "      <th></th>\n",
              "      <th>Okul No</th>\n",
              "      <th>Ders Notu</th>\n",
              "      <th>Durum</th>\n",
              "    </tr>\n",
              "  </thead>\n",
              "  <tbody>\n",
              "    <tr>\n",
              "      <th>Sinan GUYER</th>\n",
              "      <td>32</td>\n",
              "      <td>43</td>\n",
              "      <td>KALDI</td>\n",
              "    </tr>\n",
              "  </tbody>\n",
              "</table>\n",
              "</div>\n",
              "      <button class=\"colab-df-convert\" onclick=\"convertToInteractive('df-496be4b9-889c-49be-b912-bc0b205c0525')\"\n",
              "              title=\"Convert this dataframe to an interactive table.\"\n",
              "              style=\"display:none;\">\n",
              "        \n",
              "  <svg xmlns=\"http://www.w3.org/2000/svg\" height=\"24px\"viewBox=\"0 0 24 24\"\n",
              "       width=\"24px\">\n",
              "    <path d=\"M0 0h24v24H0V0z\" fill=\"none\"/>\n",
              "    <path d=\"M18.56 5.44l.94 2.06.94-2.06 2.06-.94-2.06-.94-.94-2.06-.94 2.06-2.06.94zm-11 1L8.5 8.5l.94-2.06 2.06-.94-2.06-.94L8.5 2.5l-.94 2.06-2.06.94zm10 10l.94 2.06.94-2.06 2.06-.94-2.06-.94-.94-2.06-.94 2.06-2.06.94z\"/><path d=\"M17.41 7.96l-1.37-1.37c-.4-.4-.92-.59-1.43-.59-.52 0-1.04.2-1.43.59L10.3 9.45l-7.72 7.72c-.78.78-.78 2.05 0 2.83L4 21.41c.39.39.9.59 1.41.59.51 0 1.02-.2 1.41-.59l7.78-7.78 2.81-2.81c.8-.78.8-2.07 0-2.86zM5.41 20L4 18.59l7.72-7.72 1.47 1.35L5.41 20z\"/>\n",
              "  </svg>\n",
              "      </button>\n",
              "      \n",
              "  <style>\n",
              "    .colab-df-container {\n",
              "      display:flex;\n",
              "      flex-wrap:wrap;\n",
              "      gap: 12px;\n",
              "    }\n",
              "\n",
              "    .colab-df-convert {\n",
              "      background-color: #E8F0FE;\n",
              "      border: none;\n",
              "      border-radius: 50%;\n",
              "      cursor: pointer;\n",
              "      display: none;\n",
              "      fill: #1967D2;\n",
              "      height: 32px;\n",
              "      padding: 0 0 0 0;\n",
              "      width: 32px;\n",
              "    }\n",
              "\n",
              "    .colab-df-convert:hover {\n",
              "      background-color: #E2EBFA;\n",
              "      box-shadow: 0px 1px 2px rgba(60, 64, 67, 0.3), 0px 1px 3px 1px rgba(60, 64, 67, 0.15);\n",
              "      fill: #174EA6;\n",
              "    }\n",
              "\n",
              "    [theme=dark] .colab-df-convert {\n",
              "      background-color: #3B4455;\n",
              "      fill: #D2E3FC;\n",
              "    }\n",
              "\n",
              "    [theme=dark] .colab-df-convert:hover {\n",
              "      background-color: #434B5C;\n",
              "      box-shadow: 0px 1px 3px 1px rgba(0, 0, 0, 0.15);\n",
              "      filter: drop-shadow(0px 1px 2px rgba(0, 0, 0, 0.3));\n",
              "      fill: #FFFFFF;\n",
              "    }\n",
              "  </style>\n",
              "\n",
              "      <script>\n",
              "        const buttonEl =\n",
              "          document.querySelector('#df-496be4b9-889c-49be-b912-bc0b205c0525 button.colab-df-convert');\n",
              "        buttonEl.style.display =\n",
              "          google.colab.kernel.accessAllowed ? 'block' : 'none';\n",
              "\n",
              "        async function convertToInteractive(key) {\n",
              "          const element = document.querySelector('#df-496be4b9-889c-49be-b912-bc0b205c0525');\n",
              "          const dataTable =\n",
              "            await google.colab.kernel.invokeFunction('convertToInteractive',\n",
              "                                                     [key], {});\n",
              "          if (!dataTable) return;\n",
              "\n",
              "          const docLinkHtml = 'Like what you see? Visit the ' +\n",
              "            '<a target=\"_blank\" href=https://colab.research.google.com/notebooks/data_table.ipynb>data table notebook</a>'\n",
              "            + ' to learn more about interactive tables.';\n",
              "          element.innerHTML = '';\n",
              "          dataTable['output_type'] = 'display_data';\n",
              "          await google.colab.output.renderOutput(dataTable, element);\n",
              "          const docLink = document.createElement('div');\n",
              "          docLink.innerHTML = docLinkHtml;\n",
              "          element.appendChild(docLink);\n",
              "        }\n",
              "      </script>\n",
              "    </div>\n",
              "  </div>\n",
              "  "
            ]
          },
          "metadata": {},
          "execution_count": 47
        }
      ]
    },
    {
      "cell_type": "code",
      "source": [
        "excel_olustur(df_ogrenci)"
      ],
      "metadata": {
        "id": "8GbK76NffuuG"
      },
      "execution_count": null,
      "outputs": []
    }
  ]
}